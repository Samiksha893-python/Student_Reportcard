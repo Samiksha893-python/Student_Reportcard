{
  "nbformat": 4,
  "nbformat_minor": 0,
  "metadata": {
    "colab": {
      "provenance": []
    },
    "kernelspec": {
      "name": "python3",
      "display_name": "Python 3"
    },
    "language_info": {
      "name": "python"
    }
  },
  "cells": [
    {
      "cell_type": "code",
      "source": [
        "students = []   # saare students ke data ko ek list ke andar store karenge\n",
        "\n",
        "print(\"\\nSTUDENTS REPORTS CARDS\\n\")   # report card ka heading\n",
        "print(\"Roll  | Name       | Class   | Father     | Math  | Eng   | Hindi | Sci   | Comp  | Avg    | Grade\")\n",
        "print(\"-\"*95)   # 95 dashes print karega taaki ek line ban jaye (table border)\n",
        "\n",
        "while True:   # infinite loop, jab tak user \"no\" nahi bolega\n",
        "    # --- Input lena har student ka ---\n",
        "    roll_no = int(input(\"Enter your roll no: \"))   # roll number\n",
        "    students_name = input(\"Enter your name: \")     # student ka naam\n",
        "    class_name = input(\"Enter your class name: \")  # class ka naam\n",
        "    father_name = input(\"Enter your father name: \")# father ka naam\n",
        "    math = int(input(\"Enter your math marks: \"))   # math marks\n",
        "    english = int(input(\"Enter your english marks: \")) # english marks\n",
        "    hindi = int(input(\"Enter your urdu marks: \"))      # hindi/urdu marks\n",
        "    science = int(input(\"Enter your science marks: \")) # science marks\n",
        "    computer = int(input(\"Enter your computer marks: \")) # computer marks\n",
        "    # Avg calculate karna\n",
        "    average = (math+english+hindi+science+computer)/5\n",
        "\n",
        "    # Grade decide karna based on average\n",
        "    if average >= 90:\n",
        "        grade = \"A\"\n",
        "    elif average >= 75:\n",
        "        grade = \"B\"\n",
        "    elif average >= 50:\n",
        "        grade = \"C\"\n",
        "    elif average >= 33:\n",
        "        grade = \"D\"\n",
        "    else:\n",
        "        grade = \"Fail\"\n",
        "\n",
        "    #ek student ka data list ke andar store karna\n",
        "    students.append([\n",
        "        roll_no, students_name, class_name, father_name,\n",
        "        math, english, hindi, science, computer, average, grade\n",
        "    ])\n",
        "\n",
        "    # Har student add hone ke baad puri table dobara print karna\n",
        "    for s in students:   # students list me jitne bhi rows hain sab print karenge\n",
        "        print(\"{:<5} | {:<10} | {:<7} | {:<10} | {:<5} | {:<5} | {:<5} | {:<5} | {:<5} | {:<6.2f} | {:<5}\".format(\n",
        "            s[0], s[1], s[2], s[3], s[4], s[5], s[6], s[7], s[8], s[9], s[10]\n",
        "        ))\n",
        "        # yeh format style column-wise alignment ke liye hai\n",
        "        # {:<5} = left align, width 5 space ka\n",
        "        # {:<6.2f} = floating number 2 decimal ke sath, width 6 ka\n",
        "\n",
        "    #Puchna ki aur student add karna hai ya nahi\n",
        "    choice = input(\"Add more students (yes/no): \")\n",
        "    if choice.lower() == \"no\":   # agar user \"no\" bole\n",
        "        break   # loop band ho jayega"
      ],
      "metadata": {
        "id": "8GgqHtPLA0so",
        "outputId": "f4cbcedf-6a47-4d72-a4e4-2387854034d2",
        "colab": {
          "base_uri": "https://localhost:8080/"
        }
      },
      "execution_count": null,
      "outputs": [
        {
          "name": "stdout",
          "output_type": "stream",
          "text": [
            "\n",
            "STUDENTS REPORTS CARDS\n",
            "\n",
            "Roll  | Name       | Class   | Father     | Math  | Eng   | Hindi | Sci   | Comp  | Avg    | Grade\n",
            "-----------------------------------------------------------------------------------------------\n",
            "1     | sam        | 4th     | raj        | 78    | 90    | 78    | 79    | 90    | 83.00  | B    \n",
            "1     | sam        | 4th     | raj        | 78    | 90    | 78    | 79    | 90    | 83.00  | B    \n",
            "2     | mi         | 4th     | ram        | 78    | 45    | 67    | 89    | 90    | 73.80  | C    \n",
            "Add more students (yes/no): no\n"
          ]
        }
      ]
    }
  ]
}